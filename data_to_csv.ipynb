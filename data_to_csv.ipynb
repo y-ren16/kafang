{
 "cells": [
  {
   "cell_type": "code",
   "execution_count": 1,
   "metadata": {},
   "outputs": [
    {
     "name": "stdout",
     "output_type": "stream",
     "text": [
      "/data3/renyong/kafang\n",
      "/data3/renyong/kafang\n"
     ]
    }
   ],
   "source": [
    "from env.stock_raw.backtest.utils import ParquetFile\n",
    "import os\n",
    "from tqdm import tqdm\n",
    "import pandas as pd\n",
    "import numpy as np"
   ]
  },
  {
   "cell_type": "code",
   "execution_count": 3,
   "metadata": {},
   "outputs": [
    {
     "name": "stdout",
     "output_type": "stream",
     "text": [
      "['20200219', '20200218', '20200217', '20200214', '20200213', '20200212', '20200211', '20200210', '20200207', '20200206', '20200205', '20200204', '20200203', '20200123', '20200122', '20200121', '20200120', '20200117', '20200116', '20200115', '20200114', '20200113', '20200110', '20200109', '20200108', '20200107', '20200106', '20200103', '20200102']\n"
     ]
    },
    {
     "name": "stderr",
     "output_type": "stream",
     "text": [
      "  0%|          | 0/29 [00:00<?, ?it/s]"
     ]
    },
    {
     "name": "stdout",
     "output_type": "stream",
     "text": [
      "20200219\n"
     ]
    },
    {
     "name": "stderr",
     "output_type": "stream",
     "text": [
      "  3%|▎         | 1/29 [00:49<23:00, 49.30s/it]"
     ]
    },
    {
     "name": "stdout",
     "output_type": "stream",
     "text": [
      "20200218\n"
     ]
    },
    {
     "name": "stderr",
     "output_type": "stream",
     "text": [
      "  7%|▋         | 2/29 [01:38<22:02, 48.98s/it]"
     ]
    },
    {
     "name": "stdout",
     "output_type": "stream",
     "text": [
      "20200217\n"
     ]
    },
    {
     "name": "stderr",
     "output_type": "stream",
     "text": [
      " 10%|█         | 3/29 [02:27<21:15, 49.05s/it]"
     ]
    },
    {
     "name": "stdout",
     "output_type": "stream",
     "text": [
      "20200214\n"
     ]
    },
    {
     "name": "stderr",
     "output_type": "stream",
     "text": [
      " 14%|█▍        | 4/29 [03:16<20:28, 49.15s/it]"
     ]
    },
    {
     "name": "stdout",
     "output_type": "stream",
     "text": [
      "20200213\n"
     ]
    },
    {
     "name": "stderr",
     "output_type": "stream",
     "text": [
      " 17%|█▋        | 5/29 [04:05<19:39, 49.13s/it]"
     ]
    },
    {
     "name": "stdout",
     "output_type": "stream",
     "text": [
      "20200212\n"
     ]
    },
    {
     "name": "stderr",
     "output_type": "stream",
     "text": [
      " 21%|██        | 6/29 [04:55<18:56, 49.43s/it]"
     ]
    },
    {
     "name": "stdout",
     "output_type": "stream",
     "text": [
      "20200211\n"
     ]
    },
    {
     "name": "stderr",
     "output_type": "stream",
     "text": [
      " 24%|██▍       | 7/29 [05:44<18:06, 49.38s/it]"
     ]
    },
    {
     "name": "stdout",
     "output_type": "stream",
     "text": [
      "20200210\n"
     ]
    },
    {
     "name": "stderr",
     "output_type": "stream",
     "text": [
      " 28%|██▊       | 8/29 [06:32<17:07, 48.93s/it]"
     ]
    },
    {
     "name": "stdout",
     "output_type": "stream",
     "text": [
      "20200207\n"
     ]
    },
    {
     "name": "stderr",
     "output_type": "stream",
     "text": [
      " 31%|███       | 9/29 [07:21<16:18, 48.95s/it]"
     ]
    },
    {
     "name": "stdout",
     "output_type": "stream",
     "text": [
      "20200206\n"
     ]
    },
    {
     "name": "stderr",
     "output_type": "stream",
     "text": [
      " 34%|███▍      | 10/29 [08:10<15:30, 48.98s/it]"
     ]
    },
    {
     "name": "stdout",
     "output_type": "stream",
     "text": [
      "20200205\n"
     ]
    },
    {
     "name": "stderr",
     "output_type": "stream",
     "text": [
      " 38%|███▊      | 11/29 [08:59<14:41, 48.96s/it]"
     ]
    },
    {
     "name": "stdout",
     "output_type": "stream",
     "text": [
      "20200204\n"
     ]
    },
    {
     "name": "stderr",
     "output_type": "stream",
     "text": [
      " 41%|████▏     | 12/29 [09:48<13:48, 48.76s/it]"
     ]
    },
    {
     "name": "stdout",
     "output_type": "stream",
     "text": [
      "20200203\n"
     ]
    },
    {
     "name": "stderr",
     "output_type": "stream",
     "text": [
      " 45%|████▍     | 13/29 [10:36<12:59, 48.75s/it]"
     ]
    },
    {
     "name": "stdout",
     "output_type": "stream",
     "text": [
      "20200123\n"
     ]
    },
    {
     "name": "stderr",
     "output_type": "stream",
     "text": [
      " 48%|████▊     | 14/29 [11:25<12:08, 48.58s/it]"
     ]
    },
    {
     "name": "stdout",
     "output_type": "stream",
     "text": [
      "20200122\n"
     ]
    },
    {
     "name": "stderr",
     "output_type": "stream",
     "text": [
      " 52%|█████▏    | 15/29 [12:13<11:21, 48.67s/it]"
     ]
    },
    {
     "name": "stdout",
     "output_type": "stream",
     "text": [
      "20200121\n"
     ]
    },
    {
     "name": "stderr",
     "output_type": "stream",
     "text": [
      " 55%|█████▌    | 16/29 [13:02<10:31, 48.60s/it]"
     ]
    },
    {
     "name": "stdout",
     "output_type": "stream",
     "text": [
      "20200120\n"
     ]
    },
    {
     "name": "stderr",
     "output_type": "stream",
     "text": [
      " 59%|█████▊    | 17/29 [13:50<09:41, 48.43s/it]"
     ]
    },
    {
     "name": "stdout",
     "output_type": "stream",
     "text": [
      "20200117\n"
     ]
    },
    {
     "name": "stderr",
     "output_type": "stream",
     "text": [
      " 62%|██████▏   | 18/29 [14:39<08:53, 48.49s/it]"
     ]
    },
    {
     "name": "stdout",
     "output_type": "stream",
     "text": [
      "20200116\n"
     ]
    },
    {
     "name": "stderr",
     "output_type": "stream",
     "text": [
      " 66%|██████▌   | 19/29 [15:27<08:03, 48.38s/it]"
     ]
    },
    {
     "name": "stdout",
     "output_type": "stream",
     "text": [
      "20200115\n"
     ]
    },
    {
     "name": "stderr",
     "output_type": "stream",
     "text": [
      " 69%|██████▉   | 20/29 [16:15<07:15, 48.35s/it]"
     ]
    },
    {
     "name": "stdout",
     "output_type": "stream",
     "text": [
      "20200114\n"
     ]
    },
    {
     "name": "stderr",
     "output_type": "stream",
     "text": [
      " 72%|███████▏  | 21/29 [17:04<06:28, 48.56s/it]"
     ]
    },
    {
     "name": "stdout",
     "output_type": "stream",
     "text": [
      "20200113\n"
     ]
    },
    {
     "name": "stderr",
     "output_type": "stream",
     "text": [
      " 76%|███████▌  | 22/29 [17:53<05:40, 48.58s/it]"
     ]
    },
    {
     "name": "stdout",
     "output_type": "stream",
     "text": [
      "20200110\n"
     ]
    },
    {
     "name": "stderr",
     "output_type": "stream",
     "text": [
      " 79%|███████▉  | 23/29 [18:42<04:52, 48.69s/it]"
     ]
    },
    {
     "name": "stdout",
     "output_type": "stream",
     "text": [
      "20200109\n"
     ]
    },
    {
     "name": "stderr",
     "output_type": "stream",
     "text": [
      " 83%|████████▎ | 24/29 [19:31<04:04, 48.88s/it]"
     ]
    },
    {
     "name": "stdout",
     "output_type": "stream",
     "text": [
      "20200108\n"
     ]
    },
    {
     "name": "stderr",
     "output_type": "stream",
     "text": [
      " 86%|████████▌ | 25/29 [20:19<03:14, 48.63s/it]"
     ]
    },
    {
     "name": "stdout",
     "output_type": "stream",
     "text": [
      "20200107\n"
     ]
    },
    {
     "name": "stderr",
     "output_type": "stream",
     "text": [
      " 90%|████████▉ | 26/29 [21:07<02:25, 48.36s/it]"
     ]
    },
    {
     "name": "stdout",
     "output_type": "stream",
     "text": [
      "20200106\n"
     ]
    },
    {
     "name": "stderr",
     "output_type": "stream",
     "text": [
      " 93%|█████████▎| 27/29 [21:55<01:36, 48.22s/it]"
     ]
    },
    {
     "name": "stdout",
     "output_type": "stream",
     "text": [
      "20200103\n"
     ]
    },
    {
     "name": "stderr",
     "output_type": "stream",
     "text": [
      " 97%|█████████▋| 28/29 [22:42<00:48, 48.09s/it]"
     ]
    },
    {
     "name": "stdout",
     "output_type": "stream",
     "text": [
      "20200102\n"
     ]
    },
    {
     "name": "stderr",
     "output_type": "stream",
     "text": [
      "100%|██████████| 29/29 [23:30<00:00, 48.65s/it]\n"
     ]
    }
   ],
   "source": [
    "stock_path = \"./env/stock_raw\"\n",
    "signal_file_original_rootpath = os.path.join(stock_path, 'data')\n",
    "dateList = [name for name in os.listdir(signal_file_original_rootpath) if\n",
    "                    os.path.isdir(os.path.join(signal_file_original_rootpath, name))]\n",
    "print(dateList)\n",
    "os.makedirs(os.path.join(stock_path, \"data_csv\"), exist_ok=True)\n",
    "for date in tqdm(dateList[:]):\n",
    "    if date in ['20200225', '20200224', '20200221', '20200220']:\n",
    "        print(f'{date} is not in the list')\n",
    "        continue\n",
    "    os.makedirs(os.path.join(stock_path, \"data_csv\", date), exist_ok=True)\n",
    "    print(date)\n",
    "    # all_dfs = []\n",
    "    for file_code in os.listdir(os.path.join(stock_path, \"data\", date)):\n",
    "        # print(file_code)\n",
    "        if len(file_code.split(\".\")[0]) < 11:\n",
    "            continue\n",
    "        # print(file_code.split(\".\")[0][11:])\n",
    "        # new_dir = os.path.join(stock_path, \"data_csv\", date, file_code.split(\".\")[0][11:])\n",
    "        # print(new_dir)\n",
    "        # os.makedirs(new_dir, exist_ok=True)\n",
    "        if file_code.endswith(\".parquet\"):\n",
    "            file_path = os.path.join(stock_path, \"data\", date, file_code)\n",
    "            df = pd.read_parquet(file_path)\n",
    "            # write to csv\n",
    "            df.to_csv(os.path.join(os.path.join(stock_path, \"data_csv\", date), file_code.replace('.parquet', '.csv')), index=False)\n",
    "            # print(df)\n",
    "            # all_dfs.append(df)\n",
    "    # combine all code of df into one df and sorted by ['serverTime']\n",
    "    # if all_dfs:\n",
    "    #     # 合并当天所有股票数据的DataFrame\n",
    "    #     combined_df = pd.concat(all_dfs, ignore_index=True)\n",
    "    #     # 按['serverTime']列排序\n",
    "    #     combined_df_sorted = combined_df.sort_values(by=['serverTime'])\n",
    "    #     # 可以选择保存合并后的DataFrame为新的Parquet文件\n",
    "    #     combined_df_sorted.to_parquet(os.path.join(stock_path, \"data_resampled/\" + date + \"/train_data.parquet\"))\n",
    "# print(combined_df_sorted)"
   ]
  },
  {
   "cell_type": "code",
   "execution_count": null,
   "metadata": {},
   "outputs": [],
   "source": [
    "stock_path = \"./env/stock_raw\"\n",
    "os.makedirs(os.path.join(stock_path, \"data_csv\"), exist_ok=True)\n",
    "signal_file_original_rootpath = os.path.join(stock_path, 'data')\n",
    "dateList = [name for name in os.listdir(signal_file_original_rootpath) if\n",
    "                    os.path.isdir(os.path.join(signal_file_original_rootpath, name))]\n",
    "print(dateList)\n",
    "for date in tqdm(dateList[:]):\n",
    "    os.makedirs(os.path.join(stock_path, \"data_csv\", date), exist_ok=True)\n",
    "    print(date)\n",
    "    if date == '20200225' or date == '20200224' or date == '20200221' or date == '20200220':\n",
    "        continue\n",
    "    file_path = os.path.join(stock_path, \"data\", date, \"train_data.parquet\")\n",
    "    df = pd.read_parquet(file_path)\n",
    "    df.to_csv(os.path.join(stock_path, \"data_csv\", date, \"train_data.csv\"), index=False)\n",
    "    print(df[\"serverTime\"])\n",
    "    print(df[\"code\"])\n",
    "    break"
   ]
  }
 ],
 "metadata": {
  "kernelspec": {
   "display_name": "stock-venv",
   "language": "python",
   "name": "python3"
  },
  "language_info": {
   "codemirror_mode": {
    "name": "ipython",
    "version": 3
   },
   "file_extension": ".py",
   "mimetype": "text/x-python",
   "name": "python",
   "nbconvert_exporter": "python",
   "pygments_lexer": "ipython3",
   "version": "3.7.12"
  }
 },
 "nbformat": 4,
 "nbformat_minor": 2
}
